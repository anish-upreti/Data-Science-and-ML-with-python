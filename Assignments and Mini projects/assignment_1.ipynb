{
 "cells": [
  {
   "cell_type": "markdown",
   "id": "7e59476c",
   "metadata": {},
   "source": [
    "1.  User Input and String Formatting .  \n",
    "Write a program that asks the user for their name and age. Display a \n",
    "message like: \n",
    "\"Hi Anishl, you will be 25 in 5 years.\" "
   ]
  },
  {
   "cell_type": "code",
   "execution_count": 1,
   "id": "d4b58659",
   "metadata": {},
   "outputs": [
    {
     "name": "stdout",
     "output_type": "stream",
     "text": [
      "Hi anish, you will be 27 in 5 years.\n"
     ]
    }
   ],
   "source": [
    "# Asking the user for their name and age\n",
    "name = input(\"What is your name? \")\n",
    "age = int(input(\"How old are you? \"))\n",
    "\n",
    "# Calculate the age in 5 years\n",
    "age_in_5_years = age + 5\n",
    "\n",
    "# Display the formatted message\n",
    "print(f\"Hi {name}, you will be {age_in_5_years} in 5 years.\")"
   ]
  },
  {
   "cell_type": "markdown",
   "id": "c3cd270f",
   "metadata": {},
   "source": [
    "2.  Prime Number Checker .  \n",
    "Write a function that checks if a number is prime. Let the user input a \n",
    "number and display whether it's prime or not. "
   ]
  },
  {
   "cell_type": "code",
   "execution_count": 2,
   "id": "e6d69fb9",
   "metadata": {},
   "outputs": [
    {
     "name": "stdout",
     "output_type": "stream",
     "text": [
      "7 is a prime number.\n"
     ]
    }
   ],
   "source": [
    "# Function to check if a number is prime\n",
    "def is_prime(number):\n",
    "    # Handle edge cases for numbers less than 2\n",
    "    if number <= 1:\n",
    "        return False\n",
    "    # Check for divisibility from 2 up to the square root of the number\n",
    "    for i in range(2, int(number ** 0.5) + 1):\n",
    "        if number % i == 0:\n",
    "            return False\n",
    "    return True\n",
    "\n",
    "# Ask the user for a number\n",
    "user_input = int(input(\"Enter a number to check if it's prime: \"))\n",
    "\n",
    "# Check if the number is prime and display the result\n",
    "if is_prime(user_input):\n",
    "    print(f\"{user_input} is a prime number.\")\n",
    "else:\n",
    "    print(f\"{user_input} is not a prime number.\")\n"
   ]
  },
  {
   "cell_type": "markdown",
   "id": "a0d16a52",
   "metadata": {},
   "source": [
    "3.  Loops Practice  \n",
    "a) Print all even numbers from 1 to 50 using a loop.  \n",
    "b) Write a function to calculate factorial of a given number using a while \n",
    "loop. "
   ]
  },
  {
   "cell_type": "code",
   "execution_count": 3,
   "id": "28fdcf9d",
   "metadata": {},
   "outputs": [
    {
     "name": "stdout",
     "output_type": "stream",
     "text": [
      "2\n",
      "4\n",
      "6\n",
      "8\n",
      "10\n",
      "12\n",
      "14\n",
      "16\n",
      "18\n",
      "20\n",
      "22\n",
      "24\n",
      "26\n",
      "28\n",
      "30\n",
      "32\n",
      "34\n",
      "36\n",
      "38\n",
      "40\n",
      "42\n",
      "44\n",
      "46\n",
      "48\n",
      "50\n"
     ]
    }
   ],
   "source": [
    "# Loop to print even numbers from 1 to 50\n",
    "for number in range(1, 51):\n",
    "    if number % 2 == 0:\n",
    "        print(number)"
   ]
  },
  {
   "cell_type": "code",
   "execution_count": 5,
   "id": "34a84a45",
   "metadata": {},
   "outputs": [
    {
     "name": "stdout",
     "output_type": "stream",
     "text": [
      "The factorial of 5 is 120.\n"
     ]
    }
   ],
   "source": [
    "# Function to calculate factorial using while loop\n",
    "def factorial(n):\n",
    "    result = 1\n",
    "    while n > 1:\n",
    "        result *= n\n",
    "        n -= 1\n",
    "    return result\n",
    "\n",
    "# user input and calculation\n",
    "num = int(input(\"Enter a number to calculate its factorial: \"))\n",
    "print(f\"The factorial of {num} is {factorial(num)}.\")\n"
   ]
  },
  {
   "cell_type": "markdown",
   "id": "e21ab122",
   "metadata": {},
   "source": [
    "4. List Operations  \n",
    "o Create a list of integers.  \n",
    "o Write a function that finds the maximum number.  \n",
    "o Write another function that returns a list with the square of each \n",
    "number. "
   ]
  },
  {
   "cell_type": "code",
   "execution_count": 13,
   "id": "c61cbd97",
   "metadata": {},
   "outputs": [
    {
     "data": {
      "text/plain": [
       "[1, 100, 34, 23, 12, 11, 32]"
      ]
     },
     "execution_count": 13,
     "metadata": {},
     "output_type": "execute_result"
    }
   ],
   "source": [
    "# to create a list\n",
    "my_list = [1, 100, 34, 23, 12, 11, 32]\n",
    "my_list\n"
   ]
  },
  {
   "cell_type": "code",
   "execution_count": 15,
   "id": "04042514",
   "metadata": {},
   "outputs": [
    {
     "data": {
      "text/plain": [
       "100"
      ]
     },
     "execution_count": 15,
     "metadata": {},
     "output_type": "execute_result"
    }
   ],
   "source": [
    "# function to find max number in the list\n",
    "def max_num(list):\n",
    "    return max(list)\n",
    "\n",
    "max_num(my_list)\n"
   ]
  },
  {
   "cell_type": "code",
   "execution_count": 17,
   "id": "58406f89",
   "metadata": {},
   "outputs": [
    {
     "data": {
      "text/plain": [
       "[1, 10000, 1156, 529, 144, 121, 1024]"
      ]
     },
     "execution_count": 17,
     "metadata": {},
     "output_type": "execute_result"
    }
   ],
   "source": [
    "# function that returns a list with square of each number\n",
    "def square(list):\n",
    "    return [num**2 for num in list]\n",
    "\n",
    "square(my_list)"
   ]
  },
  {
   "cell_type": "markdown",
   "id": "b52ff91b",
   "metadata": {},
   "source": [
    "## File handling in python\n",
    "-Create a text file named sample.txt and write any 5 sentences into it.  \n",
    "o Read the file and print its contents.  \n",
    "o Count the total number of words and print the result."
   ]
  },
  {
   "cell_type": "code",
   "execution_count": 1,
   "id": "66f50c3a",
   "metadata": {},
   "outputs": [],
   "source": [
    "## create and write 5 sentences to file named \"sample.txt\"\n",
    "with open(\"sample.txt\",\"w\") as file:\n",
    "    file.write(\"This is the first sentence.\\n\")\n",
    "    file.write(\"This is the second sentence.\\n\")\n",
    "    file.write(\"This is the third sentence.\\n\")\n",
    "    file.write(\"This is the fourth sentence.\\n\")\n",
    "    file.write(\"This is the fifth sentence.\\n\")\n"
   ]
  },
  {
   "cell_type": "code",
   "execution_count": 2,
   "id": "efefac15",
   "metadata": {},
   "outputs": [
    {
     "name": "stdout",
     "output_type": "stream",
     "text": [
      "The file contents are:\n",
      "\n",
      "This is the first sentence.\n",
      "This is the second sentence.\n",
      "This is the third sentence.\n",
      "This is the fourth sentence.\n",
      "This is the fifth sentence.\n",
      "\n"
     ]
    }
   ],
   "source": [
    "## read the file and print its contents\n",
    "with open(\"sample.txt\", \"r\") as file:\n",
    "    content = file.read()\n",
    "    print(\"The file contents are:\\n\")\n",
    "    print(content)"
   ]
  },
  {
   "cell_type": "code",
   "execution_count": 3,
   "id": "80c86932",
   "metadata": {},
   "outputs": [
    {
     "name": "stdout",
     "output_type": "stream",
     "text": [
      "The total number of words in the file is 25\n"
     ]
    }
   ],
   "source": [
    "## to count the total number of words and print it\n",
    "words = content.split()  # split() without arguments splits the string on any whitespace (spaces, newlines, tabs) and returns a list\n",
    "count = len(words)\n",
    "print(f\"The total number of words in the file is {count}\")"
   ]
  },
  {
   "cell_type": "markdown",
   "id": "8b47872c",
   "metadata": {},
   "source": [
    "## Basics with Numpy Arrays  \n",
    "o Create a 1D array with numbers from 1 to 10.  \n",
    "o Create a 2D array of shape (3, 4).  \n",
    "o Slice both arrays and print selected elements. "
   ]
  },
  {
   "cell_type": "code",
   "execution_count": 6,
   "id": "bde5fc16",
   "metadata": {},
   "outputs": [
    {
     "name": "stdout",
     "output_type": "stream",
     "text": [
      "1D array: [ 1  2  3  4  5  6  7  8  9 10]\n",
      "2D array:  [[1 2 3]\n",
      " [4 5 6]\n",
      " [7 8 9]]\n",
      "\n",
      "Sliced 1D Array:\n",
      "[3 4 5 6 7]\n",
      "\n",
      "Sliced 2D Array:\n",
      "[[2 3]\n",
      " [5 6]]\n"
     ]
    }
   ],
   "source": [
    "import numpy as np\n",
    "\n",
    "# create a 1D array from number 1 to 10\n",
    "array_1d = np.arange(1, 11)\n",
    "print(f\"1D array:\",array_1d)\n",
    "\n",
    "# create a 2D array of shape (3, 4)\n",
    "array_2d = np.array([[1, 2, 3],\n",
    "                     [4, 5, 6],\n",
    "                     [7, 8, 9]])\n",
    "print(f\"2D array: \",array_2d)\n",
    "\n",
    "# Slice the 1D array: elements from index 2 to 6 (inclusive of 2, exclusive of 7)\n",
    "slice_1d = array_1d[2:7]\n",
    "print(\"\\nSliced 1D Array:\")\n",
    "print(slice_1d)\n",
    "\n",
    "# Slice the 2D array: rows 0 and 1, columns 1 to 3\n",
    "slice_2d = array_2d[0:2, 1:4]\n",
    "print(\"\\nSliced 2D Array:\")\n",
    "print(slice_2d)"
   ]
  },
  {
   "cell_type": "markdown",
   "id": "e8292996",
   "metadata": {},
   "source": [
    "## Array operations  \n",
    "o Perform element-wise addition, subtraction, and multiplication on two arrays.  \n",
    "o Find the mean, median, and standard deviation of an array. "
   ]
  },
  {
   "cell_type": "code",
   "execution_count": 7,
   "id": "e0e696a1",
   "metadata": {},
   "outputs": [
    {
     "name": "stdout",
     "output_type": "stream",
     "text": [
      "Add: [12 24 35 48]\n",
      "Subtract: [ 8 16 25 32]\n",
      "Multiply: [ 20  80 150 320]\n",
      "Divide: [5. 5. 6. 5.]\n",
      "Mean: 25.0\n",
      "Median: 25.0\n",
      "Std Dev: 11.180339887498949\n"
     ]
    }
   ],
   "source": [
    "\n",
    "# Create arrays\n",
    "a = np.array([10, 20, 30, 40])\n",
    "b = np.array([2, 4, 5, 8])\n",
    "\n",
    "# Element-wise operations\n",
    "print(\"Add:\", a + b)\n",
    "print(\"Subtract:\", a - b)\n",
    "print(\"Multiply:\", a * b)\n",
    "print(\"Divide:\", a / b)\n",
    "\n",
    "# Statistics on array 'a'\n",
    "print(\"Mean:\", np.mean(a))\n",
    "print(\"Median:\", np.median(a))\n",
    "print(\"Std Dev:\", np.std(a))\n"
   ]
  },
  {
   "cell_type": "markdown",
   "id": "6ff567f3",
   "metadata": {},
   "source": [
    "# Data manipulation using pandas\n"
   ]
  },
  {
   "cell_type": "markdown",
   "id": "976dd50d",
   "metadata": {},
   "source": [
    "## create a Dataframe  \n",
    "Create a DataFrame using a dictionary with names and marks of \n",
    "students. Add columns for Math, Science, and English."
   ]
  },
  {
   "cell_type": "code",
   "execution_count": 15,
   "id": "2b560053",
   "metadata": {},
   "outputs": [
    {
     "name": "stdout",
     "output_type": "stream",
     "text": [
      "      Name  Math  Science  English\n",
      "0    Alice    85       90       87\n",
      "1      Bob    70       82       69\n",
      "2  Charlie    92       88       85\n",
      "3    David    88       91       89\n",
      "4      Eva    76       80       83\n"
     ]
    }
   ],
   "source": [
    "import pandas as pd\n",
    "\n",
    "# Create a dictionary with student data\n",
    "data = {\n",
    "    'Name': ['Alice', 'Bob', 'Charlie', 'David', 'Eva'],\n",
    "    'Math': [85, 70, 92, 88, 76],\n",
    "    'Science': [90, 82, 88, 91, 80],\n",
    "    'English': [87, 69, 85, 89, 83]\n",
    "}\n",
    "\n",
    "# Convert dictionary to DataFrame\n",
    "df = pd.DataFrame(data)\n",
    "\n",
    "# Display the DataFrame\n",
    "print(df)\n"
   ]
  },
  {
   "cell_type": "markdown",
   "id": "50318462",
   "metadata": {},
   "source": [
    "## Data Analysis  \n",
    "• Display top 5 and bottom 5 rows.  \n",
    "• Show data types and basic statistics.  \n",
    "• Filter rows where average marks are more than 75.  \n",
    "• Add a column called \"Result\" with values 'Pass' or 'Fail' based on average marks."
   ]
  },
  {
   "cell_type": "code",
   "execution_count": 12,
   "id": "89430822",
   "metadata": {},
   "outputs": [
    {
     "name": "stdout",
     "output_type": "stream",
     "text": [
      "Top 5 rows :\n",
      "       Name  Math  Science  English\n",
      "0    Alice    85       90       87\n",
      "1      Bob    78       82       79\n",
      "2  Charlie    92       88       85\n",
      "3    David    88       91       89\n",
      "4      Eva    76       80       83\n",
      "----------------------------\n",
      "Bottom 5 rows:\n",
      "       Name  Math  Science  English\n",
      "0    Alice    85       90       87\n",
      "1      Bob    78       82       79\n",
      "2  Charlie    92       88       85\n",
      "3    David    88       91       89\n",
      "4      Eva    76       80       83\n"
     ]
    }
   ],
   "source": [
    "# display the top and bottom rows\n",
    "print(\"Top 5 rows :\\n\", df.head())\n",
    "print(\"----------------------------\")\n",
    "print(\"Bottom 5 rows:\\n\",df.tail())"
   ]
  },
  {
   "cell_type": "code",
   "execution_count": null,
   "id": "fa166a9d",
   "metadata": {},
   "outputs": [
    {
     "name": "stdout",
     "output_type": "stream",
     "text": [
      " Data Types:\n",
      " Name       object\n",
      "Math        int64\n",
      "Science     int64\n",
      "English     int64\n",
      "dtype: object\n",
      "\n",
      " Basic Statistics:\n",
      "             Math   Science    English\n",
      "count   5.000000   5.00000   5.000000\n",
      "mean   83.800000  86.20000  84.600000\n",
      "std     6.723095   4.91935   3.847077\n",
      "min    76.000000  80.00000  79.000000\n",
      "25%    78.000000  82.00000  83.000000\n",
      "50%    85.000000  88.00000  85.000000\n",
      "75%    88.000000  90.00000  87.000000\n",
      "max    92.000000  91.00000  89.000000\n"
     ]
    }
   ],
   "source": [
    "\n",
    "# Data types and basic statistics\n",
    "print(\" Data Types:\\n\", df.dtypes)\n",
    "print(\"\\n Basic Statistics:\\n\", df.describe())"
   ]
  },
  {
   "cell_type": "code",
   "execution_count": 16,
   "id": "28345317",
   "metadata": {},
   "outputs": [
    {
     "name": "stdout",
     "output_type": "stream",
     "text": [
      "Filtered dataframe: \n",
      "       Name  Math  Science  English    average\n",
      "0    Alice    85       90       87  87.333333\n",
      "2  Charlie    92       88       85  88.333333\n",
      "3    David    88       91       89  89.333333\n",
      "4      Eva    76       80       83  79.666667\n"
     ]
    }
   ],
   "source": [
    "# filter rows where average marks > 75\n",
    "df[\"average\"] = df[[\"Math\",\"Science\",\"English\"]].mean(axis=1)\n",
    "\n",
    "high_scorers = df[df[\"average\"]>75]\n",
    "print(\"Filtered dataframe: \\n\", high_scorers)"
   ]
  },
  {
   "cell_type": "code",
   "execution_count": 18,
   "id": "ab1b8354",
   "metadata": {},
   "outputs": [
    {
     "data": {
      "text/html": [
       "<div>\n",
       "<style scoped>\n",
       "    .dataframe tbody tr th:only-of-type {\n",
       "        vertical-align: middle;\n",
       "    }\n",
       "\n",
       "    .dataframe tbody tr th {\n",
       "        vertical-align: top;\n",
       "    }\n",
       "\n",
       "    .dataframe thead th {\n",
       "        text-align: right;\n",
       "    }\n",
       "</style>\n",
       "<table border=\"1\" class=\"dataframe\">\n",
       "  <thead>\n",
       "    <tr style=\"text-align: right;\">\n",
       "      <th></th>\n",
       "      <th>Name</th>\n",
       "      <th>Math</th>\n",
       "      <th>Science</th>\n",
       "      <th>English</th>\n",
       "      <th>average</th>\n",
       "      <th>Result</th>\n",
       "    </tr>\n",
       "  </thead>\n",
       "  <tbody>\n",
       "    <tr>\n",
       "      <th>0</th>\n",
       "      <td>Alice</td>\n",
       "      <td>85</td>\n",
       "      <td>90</td>\n",
       "      <td>87</td>\n",
       "      <td>87.333333</td>\n",
       "      <td>Pass</td>\n",
       "    </tr>\n",
       "    <tr>\n",
       "      <th>1</th>\n",
       "      <td>Bob</td>\n",
       "      <td>70</td>\n",
       "      <td>82</td>\n",
       "      <td>69</td>\n",
       "      <td>73.666667</td>\n",
       "      <td>Pass</td>\n",
       "    </tr>\n",
       "    <tr>\n",
       "      <th>2</th>\n",
       "      <td>Charlie</td>\n",
       "      <td>92</td>\n",
       "      <td>88</td>\n",
       "      <td>85</td>\n",
       "      <td>88.333333</td>\n",
       "      <td>Pass</td>\n",
       "    </tr>\n",
       "    <tr>\n",
       "      <th>3</th>\n",
       "      <td>David</td>\n",
       "      <td>88</td>\n",
       "      <td>91</td>\n",
       "      <td>89</td>\n",
       "      <td>89.333333</td>\n",
       "      <td>Pass</td>\n",
       "    </tr>\n",
       "    <tr>\n",
       "      <th>4</th>\n",
       "      <td>Eva</td>\n",
       "      <td>76</td>\n",
       "      <td>80</td>\n",
       "      <td>83</td>\n",
       "      <td>79.666667</td>\n",
       "      <td>Pass</td>\n",
       "    </tr>\n",
       "  </tbody>\n",
       "</table>\n",
       "</div>"
      ],
      "text/plain": [
       "      Name  Math  Science  English    average Result\n",
       "0    Alice    85       90       87  87.333333   Pass\n",
       "1      Bob    70       82       69  73.666667   Pass\n",
       "2  Charlie    92       88       85  88.333333   Pass\n",
       "3    David    88       91       89  89.333333   Pass\n",
       "4      Eva    76       80       83  79.666667   Pass"
      ]
     },
     "execution_count": 18,
     "metadata": {},
     "output_type": "execute_result"
    }
   ],
   "source": [
    "# add column \"Result\"\n",
    "df[\"Result\"] = df[\"average\"].apply(lambda x: \"Pass\" if x > 40 else \"Fail\")\n",
    "df"
   ]
  },
  {
   "cell_type": "markdown",
   "id": "51beea00",
   "metadata": {},
   "source": [
    "## Grouping and Aggregation  \n",
    "Group the data by \"Result\" and calculate average marks for each subject."
   ]
  },
  {
   "cell_type": "code",
   "execution_count": 19,
   "id": "6c490915",
   "metadata": {},
   "outputs": [
    {
     "name": "stdout",
     "output_type": "stream",
     "text": [
      "        Math  Science  English\n",
      "Result                        \n",
      "Pass    82.2     86.2     82.6\n"
     ]
    }
   ],
   "source": [
    "grouped_average = df.groupby(\"Result\")[[\"Math\", \"Science\", \"English\"]].mean()\n",
    "print(grouped_average)"
   ]
  },
  {
   "cell_type": "markdown",
   "id": "66c9de1f",
   "metadata": {},
   "source": [
    "## Data visualization - Matplotlib and Seaborn  "
   ]
  },
  {
   "cell_type": "markdown",
   "id": "44114c9b",
   "metadata": {},
   "source": [
    "### using matplotlib  \n",
    "• Create a line chart showing monthly sales.  \n",
    "• Create a bar chart for revenue across different products."
   ]
  },
  {
   "cell_type": "code",
   "execution_count": 1,
   "id": "5d305b5f",
   "metadata": {},
   "outputs": [
    {
     "data": {
      "image/png": "[encoded data removed]",
      "text/plain": [
       "<Figure size 1000x500 with 1 Axes>"
      ]
     },
     "metadata": {},
     "output_type": "display_data"
    },
    {
     "data": {
      "image/png": "[encoded data removed]",
      "text/plain": [
       "<Figure size 1000x500 with 1 Axes>"
      ]
     },
     "metadata": {},
     "output_type": "display_data"
    }
   ],
   "source": [
    "import matplotlib.pyplot as plt\n",
    "\n",
    "# Monthly Sales Data\n",
    "months = ['Jan', 'Feb', 'Mar', 'Apr', 'May', 'Jun']\n",
    "sales = [1500, 1800, 1700, 1900, 2100, 2300]\n",
    "\n",
    "# Revenue per Product Data\n",
    "products = ['Product A', 'Product B', 'Product C', 'Product D']\n",
    "revenues = [4000, 3000, 5000, 3500]\n",
    "\n",
    "# Create Line Chart for Monthly Sales\n",
    "plt.figure(figsize=(10, 5))\n",
    "plt.plot(months, sales, marker='o', linestyle='-', color='blue')\n",
    "plt.title('Monthly Sales')\n",
    "plt.xlabel('Month')\n",
    "plt.ylabel('Sales ($)')\n",
    "plt.grid(True)\n",
    "plt.tight_layout()\n",
    "plt.show()\n",
    "\n",
    "# Create Bar Chart for Product Revenue\n",
    "plt.figure(figsize=(10, 5))\n",
    "plt.bar(products, revenues, color='green')\n",
    "plt.title('Revenue by Product')\n",
    "plt.xlabel('Product')\n",
    "plt.ylabel('Revenue ($)')\n",
    "plt.tight_layout()\n",
    "plt.show()\n"
   ]
  },
  {
   "cell_type": "markdown",
   "id": "becceb20",
   "metadata": {},
   "source": [
    "### using seaborn  \n",
    "Load a dataset like tips or iris.  \n",
    "• Plot a histogram of a numeric column.  \n",
    "• Plot a boxplot comparing two categorical groups.  \n",
    "• Generate a heatmap to show correlation between numeric columns."
   ]
  },
  {
   "cell_type": "code",
   "execution_count": 2,
   "id": "c3ade10e",
   "metadata": {},
   "outputs": [],
   "source": [
    "import seaborn as sns"
   ]
  },
  {
   "cell_type": "code",
   "execution_count": 3,
   "id": "959dfa21",
   "metadata": {},
   "outputs": [
    {
     "data": {
      "text/html": [
       "<div>\n",
       "<style scoped>\n",
       "    .dataframe tbody tr th:only-of-type {\n",
       "        vertical-align: middle;\n",
       "    }\n",
       "\n",
       "    .dataframe tbody tr th {\n",
       "        vertical-align: top;\n",
       "    }\n",
       "\n",
       "    .dataframe thead th {\n",
       "        text-align: right;\n",
       "    }\n",
       "</style>\n",
       "<table border=\"1\" class=\"dataframe\">\n",
       "  <thead>\n",
       "    <tr style=\"text-align: right;\">\n",
       "      <th></th>\n",
       "      <th>sepal_length</th>\n",
       "      <th>sepal_width</th>\n",
       "      <th>petal_length</th>\n",
       "      <th>petal_width</th>\n",
       "      <th>species</th>\n",
       "    </tr>\n",
       "  </thead>\n",
       "  <tbody>\n",
       "    <tr>\n",
       "      <th>0</th>\n",
       "      <td>5.1</td>\n",
       "      <td>3.5</td>\n",
       "      <td>1.4</td>\n",
       "      <td>0.2</td>\n",
       "      <td>setosa</td>\n",
       "    </tr>\n",
       "    <tr>\n",
       "      <th>1</th>\n",
       "      <td>4.9</td>\n",
       "      <td>3.0</td>\n",
       "      <td>1.4</td>\n",
       "      <td>0.2</td>\n",
       "      <td>setosa</td>\n",
       "    </tr>\n",
       "    <tr>\n",
       "      <th>2</th>\n",
       "      <td>4.7</td>\n",
       "      <td>3.2</td>\n",
       "      <td>1.3</td>\n",
       "      <td>0.2</td>\n",
       "      <td>setosa</td>\n",
       "    </tr>\n",
       "    <tr>\n",
       "      <th>3</th>\n",
       "      <td>4.6</td>\n",
       "      <td>3.1</td>\n",
       "      <td>1.5</td>\n",
       "      <td>0.2</td>\n",
       "      <td>setosa</td>\n",
       "    </tr>\n",
       "    <tr>\n",
       "      <th>4</th>\n",
       "      <td>5.0</td>\n",
       "      <td>3.6</td>\n",
       "      <td>1.4</td>\n",
       "      <td>0.2</td>\n",
       "      <td>setosa</td>\n",
       "    </tr>\n",
       "  </tbody>\n",
       "</table>\n",
       "</div>"
      ],
      "text/plain": [
       "   sepal_length  sepal_width  petal_length  petal_width species\n",
       "0           5.1          3.5           1.4          0.2  setosa\n",
       "1           4.9          3.0           1.4          0.2  setosa\n",
       "2           4.7          3.2           1.3          0.2  setosa\n",
       "3           4.6          3.1           1.5          0.2  setosa\n",
       "4           5.0          3.6           1.4          0.2  setosa"
      ]
     },
     "execution_count": 3,
     "metadata": {},
     "output_type": "execute_result"
    }
   ],
   "source": [
    "# load the iris dataset\n",
    "iris = sns.load_dataset(\"iris\")\n",
    "iris.head()"
   ]
  },
  {
   "cell_type": "code",
   "execution_count": 13,
   "id": "8edf1da7",
   "metadata": {},
   "outputs": [
    {
     "data": {
      "image/png": "[encoded data removed]",
      "text/plain": [
       "<Figure size 800x500 with 1 Axes>"
      ]
     },
     "metadata": {},
     "output_type": "display_data"
    }
   ],
   "source": [
    "# histogram of a numerical column\n",
    "plt.figure(figsize=(8, 5))\n",
    "sns.histplot(data=iris, x='sepal_length', kde=True,color='orchid')\n",
    "plt.title('Histogram of Sepal Length')\n",
    "plt.xlabel('Sepal Length (cm)')\n",
    "plt.ylabel('Frequency')\n",
    "plt.tight_layout()\n",
    "plt.show()"
   ]
  },
  {
   "cell_type": "code",
   "execution_count": 7,
   "id": "1f8ff4cd",
   "metadata": {},
   "outputs": [
    {
     "data": {
      "image/png": "[encoded data removed]",
      "text/plain": [
       "<Figure size 800x500 with 1 Axes>"
      ]
     },
     "metadata": {},
     "output_type": "display_data"
    }
   ],
   "source": [
    "# boxplot comparing two categorical groups\n",
    "plt.figure(figsize=(8, 5))\n",
    "sns.boxplot(data=iris, x='species', y='sepal_length')\n",
    "plt.title('Sepal Length by Species')\n",
    "plt.xlabel('Species')\n",
    "plt.ylabel('Sepal Length (cm)')\n",
    "plt.tight_layout()\n",
    "plt.show()"
   ]
  },
  {
   "cell_type": "code",
   "execution_count": null,
   "id": "d7f9f576",
   "metadata": {},
   "outputs": [
    {
     "data": {
      "image/png": "[encoded data removed]",
      "text/plain": [
       "<Figure size 800x600 with 2 Axes>"
      ]
     },
     "metadata": {},
     "output_type": "display_data"
    }
   ],
   "source": [
    "# heatmap to show correlation between numeric columns\n",
    "corr = iris.corr(numeric_only=True)  # Compute correlation matrix for numeric columns\n",
    "plt.figure(figsize=(8, 6))\n",
    "sns.heatmap(corr,annot=True,cmap='coolwarm', fmt='.2f', linewidths=0.5)\n",
    "plt.title('Correlation Heatmap of Iris Features')\n",
    "plt.tight_layout()\n",
    "plt.show()\n"
   ]
  }
 ],
 "metadata": {
  "kernelspec": {
   "display_name": "base",
   "language": "python",
   "name": "python3"
  },
  "language_info": {
   "codemirror_mode": {
    "name": "ipython",
    "version": 3
   },
   "file_extension": ".py",
   "mimetype": "text/x-python",
   "name": "python",
   "nbconvert_exporter": "python",
   "pygments_lexer": "ipython3",
   "version": "3.12.4"
  }
 },
 "nbformat": 4,
 "nbformat_minor": 5
}
