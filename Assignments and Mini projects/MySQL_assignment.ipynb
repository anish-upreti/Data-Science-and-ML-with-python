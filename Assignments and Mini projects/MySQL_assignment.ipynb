{
 "cells": [
  {
   "cell_type": "markdown",
   "id": "83adcac0",
   "metadata": {},
   "source": [
    "### Question Set 1:  \n",
    "1. Write necessary SQL statements for the following purposes:  \n",
    "a. Create a database named \"Himalaya\" with a table \"Employee\" that includes EmployeeID,\n",
    "Name, Gender, Age, Department, and Salary, with EmployeeID being unique.  \n",
    "b. Insert details of any two employees into the table.  \n",
    "c. Retrieve the Name and Department of all employees who earn more than 50,000.  \n",
    "d. Update the Department of an employee to \"IT\" with a specific EmployeeID.  \n",
    "e. Drop the \"Employee\" table."
   ]
  },
  {
   "cell_type": "code",
   "execution_count": 2,
   "id": "4819a070",
   "metadata": {},
   "outputs": [
    {
     "name": "stdout",
     "output_type": "stream",
     "text": [
      "Employees with salary greater than 50K\n",
      "\n",
      "('Sita', 'Finance')\n"
     ]
    }
   ],
   "source": [
    "# import module to connect to a MySQL database\n",
    "import mysql.connector\n",
    "\n",
    "conn = mysql.connector.connect(\n",
    "    host = \"localhost\",\n",
    "    user = \"root\",\n",
    "    password = \"2002\"\n",
    ")\n",
    "\n",
    "# create cursor to execute sql commands\n",
    "cursor = conn.cursor()\n",
    "\n",
    "# a. Create database and table\n",
    "cursor.execute(\"CREATE DATABASE IF NOT EXISTS Himalaya;\")\n",
    "cursor.execute(\"USE Himalaya;\")\n",
    "cursor.execute('''\n",
    "    CREATE TABLE IF NOT EXISTS Employee(\n",
    "            EmployeeID INT PRIMARY KEY,\n",
    "            Name VARCHAR(50),\n",
    "            Gender VARCHAR(50),\n",
    "            Age INT,\n",
    "            Department VARCHAR(50),\n",
    "            Salary FLOAT\n",
    "               );\n",
    "               ''' )\n",
    "\n",
    "# b. Insert 2 employee records\n",
    "cursor.execute(\"\"\"\n",
    "               INSERT INTO Employee(EmployeeID, Name, Gender, Age, Department, Salary) \n",
    "               VALUES(1, 'Sita', 'Female', 30, 'Finance', 60000.00),(2, 'Ram', 'Male', 28, 'HR', 45000.00);\n",
    "               \"\"\")\n",
    "\n",
    "# c. Retrieve Name and Department of employees with salary > 50000\n",
    "cursor.execute(\"SELECT Name, Department FROM Employee WHERE Salary > 50000;\")\n",
    "result = cursor.fetchall()\n",
    "print(\"Employees with salary greater than 50K\\n\")\n",
    "for row in result:\n",
    "    print(row)\n",
    "\n",
    "# d. Update department\n",
    "cursor.execute(\"UPDATE Employee SET Department = 'IT' WHERE EmployeeID = 1; \")\n",
    "\n"
   ]
  },
  {
   "cell_type": "code",
   "execution_count": 3,
   "id": "a2030667",
   "metadata": {},
   "outputs": [],
   "source": [
    "# e. Drop the employee table\n",
    "cursor.execute(\"Drop TABLE Employee;\")\n",
    "\n",
    "# commit changes and close\n",
    "conn.commit()\n",
    "cursor.close()\n",
    "conn.close()"
   ]
  },
  {
   "cell_type": "code",
   "execution_count": null,
   "id": "3b38b1fb",
   "metadata": {},
   "outputs": [],
   "source": []
  },
  {
   "cell_type": "markdown",
   "id": "7978fad4",
   "metadata": {},
   "source": []
  }
 ],
 "metadata": {
  "kernelspec": {
   "display_name": "myenv",
   "language": "python",
   "name": "python3"
  },
  "language_info": {
   "codemirror_mode": {
    "name": "ipython",
    "version": 3
   },
   "file_extension": ".py",
   "mimetype": "text/x-python",
   "name": "python",
   "nbconvert_exporter": "python",
   "pygments_lexer": "ipython3",
   "version": "3.9.21"
  }
 },
 "nbformat": 4,
 "nbformat_minor": 5
}
