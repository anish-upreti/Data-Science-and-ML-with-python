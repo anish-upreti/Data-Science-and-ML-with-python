{
 "cells": [
  {
   "cell_type": "markdown",
   "id": "bcd523e8",
   "metadata": {},
   "source": [
    "## Bitcoin Prediction Mini Project"
   ]
  },
  {
   "cell_type": "code",
   "execution_count": 3,
   "id": "fafb241a",
   "metadata": {},
   "outputs": [],
   "source": [
    "# Importing libraries and modules\n",
    "import numpy as np\n",
    "import pandas as pd\n",
    "import matplotlib.pyplot as plt\n",
    "import seaborn as sns\n",
    "from sklearn.preprocessing import MinMaxScaler\n",
    "from keras.models import Sequential\n",
    "from keras.layers import LSTM, Dense, Dropout\n",
    "from textblob import TextBlob"
   ]
  },
  {
   "cell_type": "code",
   "execution_count": 4,
   "id": "4caa1955",
   "metadata": {},
   "outputs": [
    {
     "name": "stdout",
     "output_type": "stream",
     "text": [
      "Requirement already satisfied: textblob in c:\\users\\anish\\anaconda3\\lib\\site-packages (0.19.0)\n",
      "Requirement already satisfied: nltk>=3.9 in c:\\users\\anish\\anaconda3\\lib\\site-packages (from textblob) (3.9.1)\n",
      "Requirement already satisfied: click in c:\\users\\anish\\anaconda3\\lib\\site-packages (from nltk>=3.9->textblob) (8.1.8)\n",
      "Requirement already satisfied: joblib in c:\\users\\anish\\anaconda3\\lib\\site-packages (from nltk>=3.9->textblob) (1.4.2)\n",
      "Requirement already satisfied: regex>=2021.8.3 in c:\\users\\anish\\anaconda3\\lib\\site-packages (from nltk>=3.9->textblob) (2023.10.3)\n",
      "Requirement already satisfied: tqdm in c:\\users\\anish\\anaconda3\\lib\\site-packages (from nltk>=3.9->textblob) (4.66.4)\n",
      "Requirement already satisfied: colorama in c:\\users\\anish\\anaconda3\\lib\\site-packages (from click->nltk>=3.9->textblob) (0.4.6)\n",
      "Note: you may need to restart the kernel to use updated packages.\n"
     ]
    }
   ],
   "source": [
    "%pip install textblob"
   ]
  },
  {
   "cell_type": "code",
   "execution_count": 8,
   "id": "bcf878c5",
   "metadata": {},
   "outputs": [],
   "source": [
    "# Loading the bitcoin price data\n",
    "price_df = pd.read_csv(\"../Datasets/bitcoin_price.csv\")\n",
    "price_df[\"Date\"] = pd.to_datetime(price_df[\"Date\"])\n",
    "price_df.set_index(\"Date\",inplace=True)\n",
    "price_data = price_df[[\"Close\"]]"
   ]
  },
  {
   "cell_type": "code",
   "execution_count": 9,
   "id": "30aa3bc8",
   "metadata": {},
   "outputs": [
    {
     "name": "stdout",
     "output_type": "stream",
     "text": [
      "                   Close\n",
      "Date                    \n",
      "2024-01-01  3.007426e+04\n",
      "2024-01-02  5.979156e+04\n",
      "2024-01-03  9.012004e+04\n",
      "2024-01-04  1.200886e+05\n",
      "2024-01-05  1.501125e+05\n",
      "...                  ...\n",
      "2024-12-26  1.082862e+07\n",
      "2024-12-27  1.085887e+07\n",
      "2024-12-28  1.088907e+07\n",
      "2024-12-29  1.091905e+07\n",
      "2024-12-30  1.094882e+07\n",
      "\n",
      "[365 rows x 1 columns]\n",
      "                   Close\n",
      "Date                    \n",
      "2024-01-01  3.007426e+04\n",
      "2024-01-02  5.979156e+04\n",
      "2024-01-03  9.012004e+04\n",
      "2024-01-04  1.200886e+05\n",
      "2024-01-05  1.501125e+05\n",
      "...                  ...\n",
      "2024-12-26  1.082862e+07\n",
      "2024-12-27  1.085887e+07\n",
      "2024-12-28  1.088907e+07\n",
      "2024-12-29  1.091905e+07\n",
      "2024-12-30  1.094882e+07\n",
      "\n",
      "[365 rows x 1 columns]\n"
     ]
    }
   ],
   "source": [
    "print(price_df)\n",
    "print(price_data)"
   ]
  },
  {
   "cell_type": "code",
   "execution_count": null,
   "id": "afc9ae30",
   "metadata": {},
   "outputs": [],
   "source": []
  }
 ],
 "metadata": {
  "kernelspec": {
   "display_name": "base",
   "language": "python",
   "name": "python3"
  },
  "language_info": {
   "codemirror_mode": {
    "name": "ipython",
    "version": 3
   },
   "file_extension": ".py",
   "mimetype": "text/x-python",
   "name": "python",
   "nbconvert_exporter": "python",
   "pygments_lexer": "ipython3",
   "version": "3.12.4"
  }
 },
 "nbformat": 4,
 "nbformat_minor": 5
}
