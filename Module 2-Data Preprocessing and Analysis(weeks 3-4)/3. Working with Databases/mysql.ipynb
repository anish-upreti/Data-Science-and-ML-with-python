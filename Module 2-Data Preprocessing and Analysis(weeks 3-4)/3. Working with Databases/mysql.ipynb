{
 "cells": [
  {
   "cell_type": "code",
   "execution_count": 2,
   "id": "cd7bb599",
   "metadata": {},
   "outputs": [
    {
     "name": "stdout",
     "output_type": "stream",
     "text": [
      "Requirement already satisfied: mysql-connector-python in c:\\users\\anish\\anaconda3\\envs\\myenv\\lib\\site-packages (9.3.0)\n"
     ]
    }
   ],
   "source": [
    "!pip install mysql-connector-python"
   ]
  },
  {
   "cell_type": "code",
   "execution_count": 5,
   "id": "cce4b315",
   "metadata": {},
   "outputs": [
    {
     "name": "stdout",
     "output_type": "stream",
     "text": [
      "Connected successfully.\n"
     ]
    }
   ],
   "source": [
    "## testing the connection\n",
    "import mysql.connector\n",
    "from mysql.connector import Error\n",
    "\n",
    "\n",
    "try:\n",
    "    mydb = mysql.connector.connect(\n",
    "        host=\"localhost\",\n",
    "        user=\"root\",\n",
    "        password=\"2002\",\n",
    "        database=\"school\"\n",
    "    )\n",
    "    print(\"Connected successfully.\")\n",
    "    mydb.close()\n",
    "except Error as err:\n",
    "    print(\"Error:\", err)\n"
   ]
  },
  {
   "cell_type": "code",
   "execution_count": null,
   "id": "924bdfcf",
   "metadata": {},
   "outputs": [
    {
     "name": "stdout",
     "output_type": "stream",
     "text": [
      "(1, 'Ram', 22)\n",
      "(2, 'Shyam', 22)\n",
      "(3, 'Hari', 22)\n"
     ]
    }
   ],
   "source": [
    "# Impor module to connect to a MySQL database\n",
    "import mysql.connector\n",
    "\n",
    "# Establish a connection to the MySQL database\n",
    "mydb = mysql.connector.connect(\n",
    "    host = \"localhost\",     \n",
    "    user = \"root\",           \n",
    "    password = \"2002\",       \n",
    "    database = \"school\"      \n",
    ")\n",
    "\n",
    "# Create a cursor object to interact with the database\n",
    "cursor = mydb.cursor()\n",
    "\n",
    "# update\n",
    "cursor.execute(\"UPDATE students SET age=22 WHERE id = 2 \")\n",
    "mydb.commit() # to apply changes\n",
    "\n",
    "# to retrieve all all records\n",
    "cursor.execute(\"SELECT * FROM students\")\n",
    "\n",
    "# Iterate over the cursor to fetch and print each row from the query result\n",
    "\n",
    "for i in cursor:      # can also use cursor.fetchall(), we have other options like fetchone(),fetchmany(size)\n",
    "\n",
    "    print(i)  # Each 'i' is a tuple representing one row from the 'students' table\n",
    "\n",
    "# Close the cursor to free up resources\n",
    "cursor.close()\n",
    "\n",
    "# Close the database connection\n",
    "mydb.close()\n"
   ]
  }
 ],
 "metadata": {
  "kernelspec": {
   "display_name": "myenv",
   "language": "python",
   "name": "python3"
  },
  "language_info": {
   "codemirror_mode": {
    "name": "ipython",
    "version": 3
   },
   "file_extension": ".py",
   "mimetype": "text/x-python",
   "name": "python",
   "nbconvert_exporter": "python",
   "pygments_lexer": "ipython3",
   "version": "3.9.21"
  }
 },
 "nbformat": 4,
 "nbformat_minor": 5
}
