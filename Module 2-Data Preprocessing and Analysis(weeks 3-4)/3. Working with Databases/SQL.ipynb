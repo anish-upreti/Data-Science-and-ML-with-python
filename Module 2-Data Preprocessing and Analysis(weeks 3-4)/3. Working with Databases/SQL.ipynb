{
 "cells": [
  {
   "cell_type": "markdown",
   "id": "72975dae",
   "metadata": {},
   "source": [
    "### 📌 What is SQL?\n",
    "SQL (Structured Query Language) is a programming language used to manage and manipulate relational databases. It allows you to create, read, update, and delete (CRUD) data."
   ]
  },
  {
   "cell_type": "markdown",
   "id": "1f659e00",
   "metadata": {},
   "source": [
    "### ✅ 1. SQL Basics\n",
    "💡 Key Concepts:  \n",
    "Database: A collection of organized data.\n",
    "\n",
    "Table: A collection of rows and columns.\n",
    "\n",
    "Row: A record.\n",
    "\n",
    "Column: A field."
   ]
  },
  {
   "cell_type": "markdown",
   "id": "db6d0d68",
   "metadata": {},
   "source": [
    "| Operation    | Command        | Example                                           |\n",
    "| ------------ | -------------- | ------------------------------------------------- |\n",
    "| Create Table | `CREATE TABLE` | `CREATE TABLE users (id INT, name VARCHAR(100));` |\n",
    "| Insert Data  | `INSERT INTO`  | `INSERT INTO users VALUES (1, 'Alice');`          |\n",
    "| Select Data  | `SELECT`       | `SELECT * FROM users;`                            |\n",
    "| Update Data  | `UPDATE`       | `UPDATE users SET name='Bob' WHERE id=1;`         |\n",
    "| Delete Data  | `DELETE`       | `DELETE FROM users WHERE id=1;`                   |\n"
   ]
  },
  {
   "cell_type": "markdown",
   "id": "e95d0612",
   "metadata": {},
   "source": [
    "### 2.Data Types\n",
    "| Data Type      | Description            |\n",
    "| -------------- | ---------------------- |\n",
    "| `INT`          | Integer                |\n",
    "| `VARCHAR(n)`   | Variable-length string |\n",
    "| `TEXT`         | Long string            |\n",
    "| `DATE`         | Date                   |\n",
    "| `FLOAT/DOUBLE` | Decimal numbers        |\n",
    "| `BOOLEAN`      | True or False          |\n"
   ]
  },
  {
   "cell_type": "markdown",
   "id": "4bbb327b",
   "metadata": {},
   "source": [
    "### ✅ 3. Advanced SELECT Queries\n",
    "WHERE Clause: Filters results  \n",
    "SELECT * FROM users WHERE age > 18;\n",
    "\n",
    "AND / OR / NOT: Combine filters  \n",
    "SELECT * FROM users WHERE age > 18 AND city = 'NY';\n",
    "\n",
    "OR: Either condition is true  \n",
    "SELECT * FROM users WHERE city = 'NY' OR city = 'LA';\n",
    "\n",
    "NOT: Exclude condition  \n",
    "SELECT * FROM users WHERE NOT city = 'Chicago';\n",
    "\n",
    "ORDER BY: Sort results  \n",
    "SELECT * FROM users ORDER BY name ASC;\n",
    "\n",
    "LIMIT: Limit rows returned  \n",
    "SELECT * FROM users LIMIT 10;\n",
    "\n",
    "LIKE: Pattern matching  \n",
    "SELECT * FROM users WHERE name LIKE 'A%';\n",
    "\n",
    "IN / BETWEEN: Match multiple values  \n",
    "IN:  \n",
    "SELECT * FROM users WHERE city IN ('NY', 'LA', 'Chicago');\n",
    "\n",
    "BETWEEN:  \n",
    "SELECT * FROM users WHERE age BETWEEN 20 AND 30;"
   ]
  },
  {
   "cell_type": "markdown",
   "id": "d8477f5e",
   "metadata": {},
   "source": [
    "### ✅ 4. Joins (Combining Tables)\n",
    "| Type         | Use Case                            | Example                                        |\n",
    "| ------------ | ----------------------------------- | ---------------------------------------------- |\n",
    "| `INNER JOIN` | Only matching rows                  | `SELECT * FROM A INNER JOIN B ON A.id = B.id;` |\n",
    "| `LEFT JOIN`  | All rows from left + matching right | `SELECT * FROM A LEFT JOIN B ON A.id = B.id;`  |\n",
    "| `RIGHT JOIN` | All from right + matching left      | `SELECT * FROM A RIGHT JOIN B ON A.id = B.id;` |\n",
    "| `FULL JOIN`  | All rows from both                  | `SELECT * FROM A FULL JOIN B ON A.id = B.id;`  |\n"
   ]
  },
  {
   "cell_type": "markdown",
   "id": "0e3606a1",
   "metadata": {},
   "source": [
    "### ✅ 5. Grouping and Aggregates\n",
    "GROUP BY: Groups rows  \n",
    "SELECT department, COUNT(*) FROM employees GROUP BY department;\n",
    "\n",
    "HAVING: Filter groups  \n",
    "SELECT department, COUNT(*) FROM employees GROUP BY department HAVING COUNT(*) > 5;\n",
    "\n",
    "Aggregates:  \n",
    "\n",
    "COUNT(), SUM(), AVG(), MIN(), MAX()"
   ]
  },
  {
   "cell_type": "markdown",
   "id": "f8ad1f5e",
   "metadata": {},
   "source": [
    "### ✅ 7. Database Design & Normalization\n",
    "Normalization: Process of organizing data to reduce redundancy.\n",
    "\n",
    "1NF: No repeating groups.\n",
    "\n",
    "2NF: Remove partial dependencies.\n",
    "\n",
    "3NF: Remove transitive dependencies.\n",
    "\n",
    "Primary Key: Uniquely identifies a row.\n",
    "\n",
    "Foreign Key: References a primary key from another table.\n",
    "\n",
    "Index: Used to speed up searches."
   ]
  },
  {
   "cell_type": "markdown",
   "id": "2665e6e9",
   "metadata": {},
   "source": [
    "### ✅ 8. Transactions & ACID\n",
    "Transaction: A group of SQL operations executed as a unit.  \n",
    "\n",
    "ACID Properties:  \n",
    "\n",
    "Atomicity\n",
    "\n",
    "Consistency\n",
    "\n",
    "Isolation\n",
    "\n",
    "Durability"
   ]
  },
  {
   "cell_type": "markdown",
   "id": "cfbb2907",
   "metadata": {},
   "source": []
  }
 ],
 "metadata": {
  "language_info": {
   "name": "python"
  }
 },
 "nbformat": 4,
 "nbformat_minor": 5
}
