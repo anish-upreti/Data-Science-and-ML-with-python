{
 "cells": [
  {
   "cell_type": "markdown",
   "id": "a22b5764",
   "metadata": {},
   "source": [
    "### Sqlite3\n",
    "sqlite3 is a lightweight, self-contained SQL database engine that's part of the standard Python library. It allows you to work with SQLite databases directly from Python without requiring a separate server process."
   ]
  },
  {
   "cell_type": "code",
   "execution_count": 1,
   "id": "dab3ae2b",
   "metadata": {},
   "outputs": [
    {
     "name": "stdout",
     "output_type": "stream",
     "text": [
      "Note: you may need to restart the kernel to use updated packages.\n"
     ]
    },
    {
     "name": "stderr",
     "output_type": "stream",
     "text": [
      "ERROR: Could not find a version that satisfies the requirement sqlite3 (from versions: none)\n",
      "ERROR: No matching distribution found for sqlite3\n"
     ]
    }
   ],
   "source": [
    "pip install sqlite3"
   ]
  },
  {
   "cell_type": "code",
   "execution_count": 3,
   "id": "3aa117bf",
   "metadata": {},
   "outputs": [
    {
     "name": "stdout",
     "output_type": "stream",
     "text": [
      "All books in the library database:\n",
      "\n",
      "(1, 'Muna Madan', 'Laxmi Prasad Devkota', 1936)\n",
      "(2, 'Basain', 'Lil Bahadur Chettri', 1957)\n",
      "(3, 'Shirishko Phool', 'Parijat', 1965)\n",
      "(4, 'Sumnima', 'B.P. Koirala', 1969)\n",
      "(5, 'Ghumne Mechmathi Andho Manche', 'Bhupi Sherchan', 1969)\n",
      "(6, 'Seto Dharti', 'Amar Neupane', 2012)\n",
      "(7, 'Karnali Blues', 'Buddhisagar', 2010)\n",
      "(8, 'Palpasa Café', 'Narayan Wagle', 2005)\n",
      "(9, 'Modiaain', 'Ramesh Bikal', 1973)\n",
      "(10, 'Alikhit', 'Nayan Raj Pandey', 2021)\n",
      "(11, 'Muna Madan', 'Laxmi Prasad Devkota', 1936)\n",
      "(12, 'Basain', 'Lil Bahadur Chettri', 1957)\n",
      "(13, 'Shirishko Phool', 'Parijat', 1965)\n",
      "(14, 'Sumnima', 'B.P. Koirala', 1969)\n",
      "(15, 'Ghumne Mechmathi Andho Manche', 'Bhupi Sherchan', 1969)\n",
      "(16, 'Seto Dharti', 'Amar Neupane', 2012)\n",
      "(17, 'Karnali Blues', 'Buddhisagar', 2010)\n",
      "(18, 'Palpasa Café', 'Narayan Wagle', 2005)\n",
      "(19, 'Modiaain', 'Ramesh Bikal', 1973)\n",
      "(20, 'Alikhit', 'Nayan Raj Pandey', 2021)\n"
     ]
    }
   ],
   "source": [
    "# import the module\n",
    "import sqlite3\n",
    "\n",
    "# connect to a database (or create one)\n",
    "conn = sqlite3.connect(\"library.db\")\n",
    "# create a cursor object to execute sql commands\n",
    "cursor = conn.cursor()\n",
    "\n",
    "# create a table\n",
    "cursor.execute(\"CREATE TABLE IF NOT EXISTS books (id INTEGER PRIMARY KEY AUTOINCREMENT, title TEXT, author TEXT, year INTEGER)\")\n",
    "\n",
    "# INSERT SOME BOOKS\n",
    "books =[\n",
    "    (\"Muna Madan\", \"Laxmi Prasad Devkota\", 1936),\n",
    "    (\"Basain\", \"Lil Bahadur Chettri\", 1957),\n",
    "    (\"Shirishko Phool\", \"Parijat\", 1965),\n",
    "    (\"Sumnima\", \"B.P. Koirala\", 1969),\n",
    "    (\"Ghumne Mechmathi Andho Manche\", \"Bhupi Sherchan\", 1969),\n",
    "    (\"Seto Dharti\", \"Amar Neupane\", 2012),\n",
    "    (\"Karnali Blues\", \"Buddhisagar\", 2010),\n",
    "    (\"Palpasa Café\", \"Narayan Wagle\", 2005),\n",
    "    (\"Modiaain\", \"Ramesh Bikal\", 1973),\n",
    "    (\"Alikhit\", \"Nayan Raj Pandey\", 2021)\n",
    "]\n",
    "\n",
    "# Insert the list of books into the 'books' table\n",
    "cursor.executemany(\"INSERT INTO books(title, author, year) VALUES (?,?,?)\", books)\n",
    "\n",
    "# Commit the transaction to save changes to the database\n",
    "conn.commit()\n",
    "\n",
    "# display all books\n",
    "print(\"All books in the library database:\\n\")\n",
    "cursor.execute(\"SELECT * FROM books\")\n",
    "\n",
    "for row in cursor.fetchall():\n",
    "    print(row)\n",
    "\n",
    "# close the database connection\n",
    "conn.close()"
   ]
  },
  {
   "cell_type": "code",
   "execution_count": null,
   "id": "300261c0",
   "metadata": {},
   "outputs": [],
   "source": []
  }
 ],
 "metadata": {
  "kernelspec": {
   "display_name": "base",
   "language": "python",
   "name": "python3"
  },
  "language_info": {
   "codemirror_mode": {
    "name": "ipython",
    "version": 3
   },
   "file_extension": ".py",
   "mimetype": "text/x-python",
   "name": "python",
   "nbconvert_exporter": "python",
   "pygments_lexer": "ipython3",
   "version": "3.12.4"
  }
 },
 "nbformat": 4,
 "nbformat_minor": 5
}
