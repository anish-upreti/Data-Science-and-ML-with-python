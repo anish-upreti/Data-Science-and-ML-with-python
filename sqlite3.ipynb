{
 "cells": [
  {
   "cell_type": "markdown",
   "id": "a22b5764",
   "metadata": {},
   "source": [
    "### Sqlite3\n",
    "sqlite3 is a lightweight, self-contained SQL database engine that's part of the standard Python library. It allows you to work with SQLite databases directly from Python without requiring a separate server process."
   ]
  },
  {
   "cell_type": "code",
   "execution_count": 1,
   "id": "dab3ae2b",
   "metadata": {},
   "outputs": [
    {
     "name": "stdout",
     "output_type": "stream",
     "text": [
      "Note: you may need to restart the kernel to use updated packages.\n"
     ]
    },
    {
     "name": "stderr",
     "output_type": "stream",
     "text": [
      "ERROR: Could not find a version that satisfies the requirement sqlite3 (from versions: none)\n",
      "ERROR: No matching distribution found for sqlite3\n"
     ]
    }
   ],
   "source": [
    "pip install sqlite3"
   ]
  },
  {
   "cell_type": "code",
   "execution_count": 10,
   "id": "3aa117bf",
   "metadata": {},
   "outputs": [
    {
     "name": "stdout",
     "output_type": "stream",
     "text": [
      "All books in the library database:\n",
      "\n",
      "(1, 'Muna Madan', 'Laxmi Prasad Devkota', 1936)\n",
      "(2, 'Basain', 'Lil Bahadur Chettri', 1957)\n",
      "(3, 'Shirishko Phool', 'Parijat', 1965)\n",
      "(4, 'Sumnima', 'B.P. Koirala', 1969)\n",
      "(5, 'Ghumne Mechmathi Andho Manche', 'Bhupi Sherchan', 1969)\n",
      "(6, 'Seto Dharti', 'Amar Neupane', 2012)\n",
      "(7, 'Karnali Blues', 'Buddhisagar', 2010)\n",
      "(8, 'Palpasa Café', 'Narayan Wagle', 2005)\n",
      "(9, 'Modiaain', 'Ramesh Bikal', 1973)\n",
      "(10, 'Alikhit', 'Nayan Raj Pandey', 2021)\n"
     ]
    }
   ],
   "source": [
    "# import the module\n",
    "import sqlite3\n",
    "\n",
    "# connect to a database (or create one)\n",
    "conn = sqlite3.connect(\"library.db\")\n",
    "# create a cursor object to execute sql commands\n",
    "cursor = conn.cursor()\n",
    "\n",
    "# create a table\n",
    "cursor.execute(\"CREATE TABLE IF NOT EXISTS books (id INTEGER PRIMARY KEY AUTOINCREMENT, title TEXT, author TEXT, year INTEGER)\")\n",
    "\n",
    "# INSERT SOME BOOKS\n",
    "books =[\n",
    "    (\"Muna Madan\", \"Laxmi Prasad Devkota\", 1936),\n",
    "    (\"Basain\", \"Lil Bahadur Chettri\", 1957),\n",
    "    (\"Shirishko Phool\", \"Parijat\", 1965),\n",
    "    (\"Sumnima\", \"B.P. Koirala\", 1969),\n",
    "    (\"Ghumne Mechmathi Andho Manche\", \"Bhupi Sherchan\", 1969),\n",
    "    (\"Seto Dharti\", \"Amar Neupane\", 2012),\n",
    "    (\"Karnali Blues\", \"Buddhisagar\", 2010),\n",
    "    (\"Palpasa Café\", \"Narayan Wagle\", 2005),\n",
    "    (\"Modiaain\", \"Ramesh Bikal\", 1973),\n",
    "    (\"Alikhit\", \"Nayan Raj Pandey\", 2021)\n",
    "]\n",
    "\n",
    "# Insert the list of books into the 'books' table\n",
    "cursor.executemany(\"INSERT INTO books(title, author, year) VALUES (?,?,?)\", books)\n",
    "\n",
    "# Commit the transaction to save changes to the database\n",
    "conn.commit()\n",
    "\n",
    "# display all books\n",
    "print(\"All books in the library database:\\n\")\n",
    "cursor.execute(\"SELECT * FROM books\")\n",
    "\n",
    "for row in cursor.fetchall():\n",
    "    print(row)\n"
   ]
  },
  {
   "cell_type": "code",
   "execution_count": 11,
   "id": "300261c0",
   "metadata": {},
   "outputs": [],
   "source": [
    "# update the year of a specific book\n",
    "cursor.execute(\"\"\"\n",
    "    UPDATE books\n",
    "    SET year = 1960\n",
    "    WHERE title = 'Basain'\n",
    "\"\"\")\n",
    "\n",
    "conn.commit()\n"
   ]
  },
  {
   "cell_type": "code",
   "execution_count": 12,
   "id": "ddfbb38d",
   "metadata": {},
   "outputs": [],
   "source": [
    "# delete a specific book\n",
    "cursor.execute(\"DELETE FROM books WHERE title = 'Modiaain' \")\n",
    "conn.commit()"
   ]
  },
  {
   "cell_type": "code",
   "execution_count": 13,
   "id": "7e8cccb4",
   "metadata": {},
   "outputs": [
    {
     "name": "stdout",
     "output_type": "stream",
     "text": [
      "Books after update and delete:\n",
      "\n",
      "(1, 'Muna Madan', 'Laxmi Prasad Devkota', 1936)\n",
      "(2, 'Basain', 'Lil Bahadur Chettri', 1960)\n",
      "(3, 'Shirishko Phool', 'Parijat', 1965)\n",
      "(4, 'Sumnima', 'B.P. Koirala', 1969)\n",
      "(5, 'Ghumne Mechmathi Andho Manche', 'Bhupi Sherchan', 1969)\n",
      "(6, 'Seto Dharti', 'Amar Neupane', 2012)\n",
      "(7, 'Karnali Blues', 'Buddhisagar', 2010)\n",
      "(8, 'Palpasa Café', 'Narayan Wagle', 2005)\n",
      "(10, 'Alikhit', 'Nayan Raj Pandey', 2021)\n"
     ]
    }
   ],
   "source": [
    "# display updated list of books\n",
    "print(\"Books after update and delete:\\n\")\n",
    "cursor.execute(\"SELECT * FROM books\")\n",
    "for row in cursor.fetchall():\n",
    "    print(row)"
   ]
  },
  {
   "cell_type": "code",
   "execution_count": 7,
   "id": "509f9e6d",
   "metadata": {},
   "outputs": [],
   "source": [
    "# close the database\n",
    "conn.close()"
   ]
  },
  {
   "cell_type": "code",
   "execution_count": 8,
   "id": "8de97d81",
   "metadata": {},
   "outputs": [
    {
     "name": "stdout",
     "output_type": "stream",
     "text": [
      "(1, 'Anish', 'Buddhanagar', 1234)\n",
      "(2, 'Shyam', 'koteshwar', 2345)\n",
      "(3, 'Hari', 'Bara', 4567)\n",
      "(4, 'Raj', 'Parsa', 8765)\n",
      "(5, 'Rajiv', 'Butwal', 9854)\n"
     ]
    }
   ],
   "source": [
    "# import module\n",
    "import sqlite3\n",
    "\n",
    "# connect to a database(or create one) and create a cursor object\n",
    "conn2 = sqlite3.connect(\"Student.db\")\n",
    "cursor2 = conn2.cursor()\n",
    "\n",
    "# create table\n",
    "cursor2.execute(\"CREATE TABLE IF NOT EXISTS Student(id INTEGER PRIMARY KEY AUTOINCREMENT, Name TEXT, Address TEXT, Phone_no INTEGER)\")\n",
    "\n",
    "# create student record\n",
    "student_record =[\n",
    "    (\"Anish\", \"Buddhanagar\", 1234),\n",
    "    (\"Shyam\", \"koteshwar\", 2345),\n",
    "    (\"Hari\", \"Bara\", 4567),\n",
    "    (\"Raj\", \"Parsa\", 8765),\n",
    "    (\"Rajiv\", \"Butwal\", 9854)\n",
    "]\n",
    "\n",
    "# Fill the table with student_record\n",
    "cursor2.executemany(\"INSERT INTO Student(Name, Address, Phone_no) VALUES (?, ?, ?)\", student_record)\n",
    "\n",
    "# commit to save changes\n",
    "conn2.commit()\n",
    "\n",
    "# display all records of the Student table\n",
    "cursor2.execute(\"SELECT * FROM Student\")\n",
    "\n",
    "for row in cursor2.fetchall():\n",
    "    print(row)\n"
   ]
  },
  {
   "cell_type": "code",
   "execution_count": 9,
   "id": "1165f0a9",
   "metadata": {},
   "outputs": [
    {
     "name": "stdout",
     "output_type": "stream",
     "text": [
      "Student records after update and delete:\n",
      "\n",
      "(1, 'Anish', 'Buddhanagar', 1234)\n",
      "(2, 'Shyam', 'koteshwar', 2345)\n",
      "(3, 'Hari', 'Bara', 4567)\n",
      "(4, 'Raj', 'Makwanpur', 8765)\n"
     ]
    }
   ],
   "source": [
    "# update the student address whose name is Raj\n",
    "cursor2.execute(\"\"\"\n",
    "UPDATE Student\n",
    "SET Address = 'Makwanpur'\n",
    "WHERE Name = 'Raj'\n",
    "\"\"\")\n",
    "\n",
    "# delete the record of student whose address is Butwal\n",
    "cursor2.execute(\"DELETE FROM Student WHERE Address ='Butwal'\")\n",
    "\n",
    "conn2.commit()  # to save changes\n",
    "\n",
    "# display the records after update and delete\n",
    "cursor2.execute(\"SELECT * FROM Student\")\n",
    "print(\"Student records after update and delete:\\n\")\n",
    "for row in cursor2.fetchall():\n",
    "    print(row)\n",
    "\n",
    "# close the connection\n",
    "conn2.close()\n"
   ]
  }
 ],
 "metadata": {
  "kernelspec": {
   "display_name": "base",
   "language": "python",
   "name": "python3"
  },
  "language_info": {
   "codemirror_mode": {
    "name": "ipython",
    "version": 3
   },
   "file_extension": ".py",
   "mimetype": "text/x-python",
   "name": "python",
   "nbconvert_exporter": "python",
   "pygments_lexer": "ipython3",
   "version": "3.12.4"
  }
 },
 "nbformat": 4,
 "nbformat_minor": 5
}
