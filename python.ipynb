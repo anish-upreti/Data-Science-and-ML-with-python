{
 "cells": [
  {
   "cell_type": "code",
   "execution_count": null,
   "id": "23ed1391",
   "metadata": {},
   "outputs": [],
   "source": [
    "def greet(name):\n",
    "    return f\"Hello, {name}!\"\n",
    "\n",
    "print(greet(\"Alice\"))\n"
   ]
  }
 ],
 "metadata": {
  "language_info": {
   "name": "python"
  }
 },
 "nbformat": 4,
 "nbformat_minor": 5
}
