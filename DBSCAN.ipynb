{
 "cells": [
  {
   "cell_type": "markdown",
   "id": "90ad87bb",
   "metadata": {},
   "source": [
    "## DBSCAN\n",
    "DBSCAN (Density-Based Spatial Clustering of Applications with Noise) is a clustering algorithm used in machine learning to group similar data points together.\n",
    "\n",
    "Here’s how it works in simple terms:\n",
    "\n",
    "Core idea: It groups points that are close to each other, based on a distance measure, and ignores points that are too far away (treating them as \"noise\").\n",
    "\n",
    "Two main parameters:\n",
    "\n",
    "ε (epsilon): the maximum distance between two points to be considered neighbors.\n",
    "\n",
    "minPts: the minimum number of points needed to form a dense region (a cluster).\n",
    "\n",
    "How it forms clusters:\n",
    "\n",
    "It starts with a point and checks how many neighbors it has within ε distance.\n",
    "\n",
    "If it has enough neighbors (at least minPts), it becomes a core point, and a cluster starts growing from it.\n",
    "\n",
    "Neighboring points are added to the cluster if they’re close enough.\n",
    "\n",
    "This process continues until no more points can be added.\n",
    "\n",
    "Outliers: Points that don’t fit into any cluster are labeled as noise.\n",
    "\n",
    "Why it’s useful: DBSCAN can find clusters of different shapes and sizes, and it doesn’t need you to specify the number of clusters in advance.  \n",
    "\n",
    "🧠 Three Types of Points in DBSCAN:  \n",
    "Core Point: Has at least minPts points (including itself) within a radius of ε.\n",
    "\n",
    "Border Point: Has fewer than minPts points within ε but is close to a core point.\n",
    "\n",
    "Noise Point (Outlier): Not a core or border point; too far from any dense region."
   ]
  },
  {
   "cell_type": "code",
   "execution_count": null,
   "id": "0513f450",
   "metadata": {
    "vscode": {
     "languageId": "plaintext"
    }
   },
   "outputs": [],
   "source": []
  },
  {
   "cell_type": "code",
   "execution_count": null,
   "id": "6b234b29",
   "metadata": {
    "vscode": {
     "languageId": "plaintext"
    }
   },
   "outputs": [],
   "source": []
  },
  {
   "cell_type": "code",
   "execution_count": null,
   "id": "0062a6af",
   "metadata": {
    "vscode": {
     "languageId": "plaintext"
    }
   },
   "outputs": [],
   "source": []
  }
 ],
 "metadata": {
  "language_info": {
   "name": "python"
  }
 },
 "nbformat": 4,
 "nbformat_minor": 5
}
