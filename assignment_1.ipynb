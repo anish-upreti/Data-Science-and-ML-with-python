{
 "cells": [
  {
   "cell_type": "markdown",
   "id": "7e59476c",
   "metadata": {},
   "source": [
    "1.  User Input and String Formatting .  \n",
    "Write a program that asks the user for their name and age. Display a \n",
    "message like: \n",
    "\"Hi Anishl, you will be 25 in 5 years.\" "
   ]
  },
  {
   "cell_type": "code",
   "execution_count": 1,
   "id": "d4b58659",
   "metadata": {},
   "outputs": [
    {
     "name": "stdout",
     "output_type": "stream",
     "text": [
      "Hi anish, you will be 27 in 5 years.\n"
     ]
    }
   ],
   "source": [
    "# Asking the user for their name and age\n",
    "name = input(\"What is your name? \")\n",
    "age = int(input(\"How old are you? \"))\n",
    "\n",
    "# Calculate the age in 5 years\n",
    "age_in_5_years = age + 5\n",
    "\n",
    "# Display the formatted message\n",
    "print(f\"Hi {name}, you will be {age_in_5_years} in 5 years.\")"
   ]
  },
  {
   "cell_type": "markdown",
   "id": "c3cd270f",
   "metadata": {},
   "source": [
    "2.  Prime Number Checker .  \n",
    "Write a function that checks if a number is prime. Let the user input a \n",
    "number and display whether it's prime or not. "
   ]
  },
  {
   "cell_type": "code",
   "execution_count": 2,
   "id": "e6d69fb9",
   "metadata": {},
   "outputs": [
    {
     "name": "stdout",
     "output_type": "stream",
     "text": [
      "7 is a prime number.\n"
     ]
    }
   ],
   "source": [
    "# Function to check if a number is prime\n",
    "def is_prime(number):\n",
    "    # Handle edge cases for numbers less than 2\n",
    "    if number <= 1:\n",
    "        return False\n",
    "    # Check for divisibility from 2 up to the square root of the number\n",
    "    for i in range(2, int(number ** 0.5) + 1):\n",
    "        if number % i == 0:\n",
    "            return False\n",
    "    return True\n",
    "\n",
    "# Ask the user for a number\n",
    "user_input = int(input(\"Enter a number to check if it's prime: \"))\n",
    "\n",
    "# Check if the number is prime and display the result\n",
    "if is_prime(user_input):\n",
    "    print(f\"{user_input} is a prime number.\")\n",
    "else:\n",
    "    print(f\"{user_input} is not a prime number.\")\n"
   ]
  },
  {
   "cell_type": "markdown",
   "id": "a0d16a52",
   "metadata": {},
   "source": [
    "3.  Loops Practice  \n",
    "a) Print all even numbers from 1 to 50 using a loop.  \n",
    "b) Write a function to calculate factorial of a given number using a while \n",
    "loop. "
   ]
  },
  {
   "cell_type": "code",
   "execution_count": 3,
   "id": "28fdcf9d",
   "metadata": {},
   "outputs": [
    {
     "name": "stdout",
     "output_type": "stream",
     "text": [
      "2\n",
      "4\n",
      "6\n",
      "8\n",
      "10\n",
      "12\n",
      "14\n",
      "16\n",
      "18\n",
      "20\n",
      "22\n",
      "24\n",
      "26\n",
      "28\n",
      "30\n",
      "32\n",
      "34\n",
      "36\n",
      "38\n",
      "40\n",
      "42\n",
      "44\n",
      "46\n",
      "48\n",
      "50\n"
     ]
    }
   ],
   "source": [
    "# Loop to print even numbers from 1 to 50\n",
    "for number in range(1, 51):\n",
    "    if number % 2 == 0:\n",
    "        print(number)"
   ]
  },
  {
   "cell_type": "code",
   "execution_count": 5,
   "id": "34a84a45",
   "metadata": {},
   "outputs": [
    {
     "name": "stdout",
     "output_type": "stream",
     "text": [
      "The factorial of 5 is 120.\n"
     ]
    }
   ],
   "source": [
    "# Function to calculate factorial using while loop\n",
    "def factorial(n):\n",
    "    result = 1\n",
    "    while n > 1:\n",
    "        result *= n\n",
    "        n -= 1\n",
    "    return result\n",
    "\n",
    "# user input and calculation\n",
    "num = int(input(\"Enter a number to calculate its factorial: \"))\n",
    "print(f\"The factorial of {num} is {factorial(num)}.\")\n"
   ]
  },
  {
   "cell_type": "markdown",
   "id": "e21ab122",
   "metadata": {},
   "source": [
    "4. List Operations  \n",
    "o Create a list of integers.  \n",
    "o Write a function that finds the maximum number.  \n",
    "o Write another function that returns a list with the square of each \n",
    "number. "
   ]
  },
  {
   "cell_type": "code",
   "execution_count": 13,
   "id": "c61cbd97",
   "metadata": {},
   "outputs": [
    {
     "data": {
      "text/plain": [
       "[1, 100, 34, 23, 12, 11, 32]"
      ]
     },
     "execution_count": 13,
     "metadata": {},
     "output_type": "execute_result"
    }
   ],
   "source": [
    "# to create a list\n",
    "my_list = [1, 100, 34, 23, 12, 11, 32]\n",
    "my_list\n"
   ]
  },
  {
   "cell_type": "code",
   "execution_count": 15,
   "id": "04042514",
   "metadata": {},
   "outputs": [
    {
     "data": {
      "text/plain": [
       "100"
      ]
     },
     "execution_count": 15,
     "metadata": {},
     "output_type": "execute_result"
    }
   ],
   "source": [
    "# function to find max number in the list\n",
    "def max_num(list):\n",
    "    return max(list)\n",
    "\n",
    "max_num(my_list)\n"
   ]
  },
  {
   "cell_type": "code",
   "execution_count": 17,
   "id": "58406f89",
   "metadata": {},
   "outputs": [
    {
     "data": {
      "text/plain": [
       "[1, 10000, 1156, 529, 144, 121, 1024]"
      ]
     },
     "execution_count": 17,
     "metadata": {},
     "output_type": "execute_result"
    }
   ],
   "source": [
    "# function that returns a list with square of each number\n",
    "def square(list):\n",
    "    return [num**2 for num in list]\n",
    "\n",
    "square(my_list)"
   ]
  },
  {
   "cell_type": "markdown",
   "id": "b52ff91b",
   "metadata": {},
   "source": []
  },
  {
   "cell_type": "code",
   "execution_count": null,
   "id": "66f50c3a",
   "metadata": {},
   "outputs": [],
   "source": []
  },
  {
   "cell_type": "code",
   "execution_count": null,
   "id": "efefac15",
   "metadata": {},
   "outputs": [],
   "source": []
  },
  {
   "cell_type": "code",
   "execution_count": null,
   "id": "80c86932",
   "metadata": {},
   "outputs": [],
   "source": []
  },
  {
   "cell_type": "code",
   "execution_count": null,
   "id": "bde5fc16",
   "metadata": {},
   "outputs": [],
   "source": []
  },
  {
   "cell_type": "code",
   "execution_count": null,
   "id": "e0e696a1",
   "metadata": {},
   "outputs": [],
   "source": []
  }
 ],
 "metadata": {
  "kernelspec": {
   "display_name": "base",
   "language": "python",
   "name": "python3"
  },
  "language_info": {
   "codemirror_mode": {
    "name": "ipython",
    "version": 3
   },
   "file_extension": ".py",
   "mimetype": "text/x-python",
   "name": "python",
   "nbconvert_exporter": "python",
   "pygments_lexer": "ipython3",
   "version": "3.12.4"
  }
 },
 "nbformat": 4,
 "nbformat_minor": 5
}
