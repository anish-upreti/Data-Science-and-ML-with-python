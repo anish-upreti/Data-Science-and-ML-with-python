{
 "cells": [
  {
   "cell_type": "code",
   "execution_count": 1,
   "id": "b77fd564",
   "metadata": {},
   "outputs": [],
   "source": [
    "# importing numpy\n",
    "import numpy as np"
   ]
  },
  {
   "cell_type": "markdown",
   "id": "6615905e",
   "metadata": {},
   "source": [
    "### Creating arrays"
   ]
  },
  {
   "cell_type": "code",
   "execution_count": 3,
   "id": "1fa24c8f",
   "metadata": {},
   "outputs": [
    {
     "name": "stdout",
     "output_type": "stream",
     "text": [
      "[1 2 3]\n",
      "[[1 2]\n",
      " [3 4]]\n",
      "[0 2 4 6 8]\n",
      "[0.   0.25 0.5  0.75 1.  ]\n",
      "[[0. 0. 0.]\n",
      " [0. 0. 0.]\n",
      " [0. 0. 0.]]\n",
      "[[1. 1.]\n",
      " [1. 1.]]\n",
      "[[0.99184607 0.82746445 0.87191584]\n",
      " [0.97402421 0.81959938 0.81061246]\n",
      " [0.44129595 0.2273024  0.3958601 ]]\n",
      "[[-0.80370575 -1.77275242  1.28426601]\n",
      " [ 0.9715442   1.54636591  0.30133405]\n",
      " [-0.81370059 -0.45960382 -0.70047208]]\n",
      "[[3 0 0]\n",
      " [7 6 5]\n",
      " [6 4 8]]\n"
     ]
    }
   ],
   "source": [
    "# From a list\n",
    "arr = np.array([1, 2, 3])\n",
    "print(arr)\n",
    "\n",
    "# 2D array (matrix)\n",
    "mat = np.array([[1, 2], [3, 4]])\n",
    "print(mat)\n",
    "\n",
    "# Range of numbers\n",
    "arr2 = np.arange(0, 10, 2)\n",
    "print(arr2)\n",
    "\n",
    "# Evenly spaced numbers (useful for plotting)\n",
    "print(np.linspace(0, 1, 5))\n",
    "\n",
    "# Zeros, ones, and random arrays\n",
    "print(np.zeros((3, 3)))\n",
    "print(np.ones((2, 2)))\n",
    "print(np.random.rand(3, 3))      # Uniform distribution\n",
    "print(np.random.randn(3, 3))     # Standard normal distribution\n",
    "print(np.random.randint(0, 10, (3, 3)))  # Random integers\n"
   ]
  },
  {
   "cell_type": "markdown",
   "id": "b5ce4608",
   "metadata": {},
   "source": [
    "### Array operations"
   ]
  },
  {
   "cell_type": "code",
   "execution_count": 4,
   "id": "f47eef1b",
   "metadata": {},
   "outputs": [
    {
     "name": "stdout",
     "output_type": "stream",
     "text": [
      "[5 7 9]\n",
      "[ 4 10 18]\n",
      "[0.25 0.4  0.5 ]\n",
      "[1 4 9]\n",
      "[11 12 13]\n"
     ]
    }
   ],
   "source": [
    "a = np.array([1, 2, 3])\n",
    "b = np.array([4, 5, 6])\n",
    "\n",
    "# Element-wise operations\n",
    "print(a + b)\n",
    "print(a * b)\n",
    "print(a / b)\n",
    "print(a ** 2)\n",
    "\n",
    "# Broadcasting\n",
    "print(a + 10)\n"
   ]
  },
  {
   "cell_type": "markdown",
   "id": "48d22768",
   "metadata": {},
   "source": [
    "## shape, reshape and dimensions"
   ]
  },
  {
   "cell_type": "code",
   "execution_count": 6,
   "id": "b7672897",
   "metadata": {},
   "outputs": [
    {
     "name": "stdout",
     "output_type": "stream",
     "text": [
      "(3,)\n",
      "[[1 2 3]]\n",
      "(3,)\n",
      "1\n"
     ]
    }
   ],
   "source": [
    "print(arr.shape)        # Dimensions\n",
    "print(arr.reshape(1, 3))\n",
    "transposed = arr.T           # Transpose\n",
    "print(transposed.shape)\n",
    "print(arr.ndim)         # Number of dimensions\n"
   ]
  },
  {
   "cell_type": "markdown",
   "id": "1e02e21b",
   "metadata": {},
   "source": [
    "### Indexing , slicing and boolean masking\n"
   ]
  },
  {
   "cell_type": "code",
   "execution_count": 7,
   "id": "e61f7ff3",
   "metadata": {},
   "outputs": [
    {
     "name": "stdout",
     "output_type": "stream",
     "text": [
      "10\n",
      "[20 30 40]\n",
      "[10 30 50]\n",
      "[30 40 50]\n"
     ]
    }
   ],
   "source": [
    "a = np.array([10, 20, 30, 40, 50])\n",
    "\n",
    "first = a[0]         # First element\n",
    "print(first)\n",
    "\n",
    "print(a[1:4])       # Slice\n",
    "\n",
    "print(a[[0, 2, 4]]) # Fancy indexing\n",
    "\n",
    "# Boolean filtering\n",
    "print(a[a > 25])\n"
   ]
  },
  {
   "cell_type": "markdown",
   "id": "cd3afe98",
   "metadata": {},
   "source": [
    "### Descriptive statistics\n"
   ]
  },
  {
   "cell_type": "code",
   "execution_count": 8,
   "id": "57b42acc",
   "metadata": {},
   "outputs": [
    {
     "name": "stdout",
     "output_type": "stream",
     "text": [
      "3.0\n",
      "3.0\n",
      "1.4142135623730951\n",
      "2.0\n",
      "1\n",
      "5\n",
      "4.0\n"
     ]
    }
   ],
   "source": [
    "arr = np.array([1, 2, 3, 4, 5])\n",
    "\n",
    "print(np.mean(arr))\n",
    "print(np.median(arr))\n",
    "print(np.std(arr))\n",
    "print(np.var(arr))\n",
    "print(np.min(arr))\n",
    "print(np.max(arr))\n",
    "print(np.percentile(arr, 75))\n"
   ]
  },
  {
   "cell_type": "markdown",
   "id": "c0b7533c",
   "metadata": {},
   "source": [
    "### Aggregation by axis\n"
   ]
  },
  {
   "cell_type": "code",
   "execution_count": 11,
   "id": "45027ace",
   "metadata": {},
   "outputs": [
    {
     "name": "stdout",
     "output_type": "stream",
     "text": [
      "[5 7 9]\n",
      "[ 6 15]\n"
     ]
    }
   ],
   "source": [
    "mat = np.array([[1, 2, 3], [4, 5, 6]])\n",
    "\n",
    "print(mat.sum(axis=0))  # Sum by column\n",
    "print(mat.sum(axis=1))  # Sum by row\n"
   ]
  },
  {
   "cell_type": "code",
   "execution_count": null,
   "id": "da74420a",
   "metadata": {},
   "outputs": [],
   "source": []
  },
  {
   "cell_type": "code",
   "execution_count": null,
   "id": "b6338277",
   "metadata": {},
   "outputs": [],
   "source": []
  }
 ],
 "metadata": {
  "kernelspec": {
   "display_name": "base",
   "language": "python",
   "name": "python3"
  },
  "language_info": {
   "codemirror_mode": {
    "name": "ipython",
    "version": 3
   },
   "file_extension": ".py",
   "mimetype": "text/x-python",
   "name": "python",
   "nbconvert_exporter": "python",
   "pygments_lexer": "ipython3",
   "version": "3.12.4"
  }
 },
 "nbformat": 4,
 "nbformat_minor": 5
}
