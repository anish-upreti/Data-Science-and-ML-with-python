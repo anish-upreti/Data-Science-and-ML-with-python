{
 "cells": [
  {
   "cell_type": "code",
   "execution_count": 1,
   "id": "b77fd564",
   "metadata": {},
   "outputs": [],
   "source": [
    "# importing numpy\n",
    "import numpy as np"
   ]
  },
  {
   "cell_type": "markdown",
   "id": "6615905e",
   "metadata": {},
   "source": [
    "### Creating arrays"
   ]
  },
  {
   "cell_type": "code",
   "execution_count": 3,
   "id": "1fa24c8f",
   "metadata": {},
   "outputs": [
    {
     "name": "stdout",
     "output_type": "stream",
     "text": [
      "[1 2 3]\n",
      "[[1 2]\n",
      " [3 4]]\n",
      "[0 2 4 6 8]\n",
      "[0.   0.25 0.5  0.75 1.  ]\n",
      "[[0. 0. 0.]\n",
      " [0. 0. 0.]\n",
      " [0. 0. 0.]]\n",
      "[[1. 1.]\n",
      " [1. 1.]]\n",
      "[[0.99184607 0.82746445 0.87191584]\n",
      " [0.97402421 0.81959938 0.81061246]\n",
      " [0.44129595 0.2273024  0.3958601 ]]\n",
      "[[-0.80370575 -1.77275242  1.28426601]\n",
      " [ 0.9715442   1.54636591  0.30133405]\n",
      " [-0.81370059 -0.45960382 -0.70047208]]\n",
      "[[3 0 0]\n",
      " [7 6 5]\n",
      " [6 4 8]]\n"
     ]
    }
   ],
   "source": [
    "# From a list\n",
    "arr = np.array([1, 2, 3])\n",
    "print(arr)\n",
    "\n",
    "# 2D array (matrix)\n",
    "mat = np.array([[1, 2], [3, 4]])\n",
    "print(mat)\n",
    "\n",
    "# Range of numbers\n",
    "arr2 = np.arange(0, 10, 2)\n",
    "print(arr2)\n",
    "\n",
    "# Evenly spaced numbers (useful for plotting)\n",
    "print(np.linspace(0, 1, 5))\n",
    "\n",
    "# Zeros, ones, and random arrays\n",
    "print(np.zeros((3, 3)))\n",
    "print(np.ones((2, 2)))\n",
    "print(np.random.rand(3, 3))      # Uniform distribution\n",
    "print(np.random.randn(3, 3))     # Standard normal distribution\n",
    "print(np.random.randint(0, 10, (3, 3)))  # Random integers\n"
   ]
  },
  {
   "cell_type": "code",
   "execution_count": null,
   "id": "f47eef1b",
   "metadata": {},
   "outputs": [],
   "source": []
  },
  {
   "cell_type": "code",
   "execution_count": null,
   "id": "b7672897",
   "metadata": {},
   "outputs": [],
   "source": []
  },
  {
   "cell_type": "code",
   "execution_count": null,
   "id": "e61f7ff3",
   "metadata": {},
   "outputs": [],
   "source": []
  },
  {
   "cell_type": "code",
   "execution_count": null,
   "id": "57b42acc",
   "metadata": {},
   "outputs": [],
   "source": []
  },
  {
   "cell_type": "code",
   "execution_count": null,
   "id": "45027ace",
   "metadata": {},
   "outputs": [],
   "source": []
  },
  {
   "cell_type": "code",
   "execution_count": null,
   "id": "da74420a",
   "metadata": {},
   "outputs": [],
   "source": []
  },
  {
   "cell_type": "code",
   "execution_count": null,
   "id": "b6338277",
   "metadata": {},
   "outputs": [],
   "source": []
  }
 ],
 "metadata": {
  "kernelspec": {
   "display_name": "base",
   "language": "python",
   "name": "python3"
  },
  "language_info": {
   "codemirror_mode": {
    "name": "ipython",
    "version": 3
   },
   "file_extension": ".py",
   "mimetype": "text/x-python",
   "name": "python",
   "nbconvert_exporter": "python",
   "pygments_lexer": "ipython3",
   "version": "3.12.4"
  }
 },
 "nbformat": 4,
 "nbformat_minor": 5
}
