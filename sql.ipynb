{
 "cells": [
  {
   "cell_type": "markdown",
   "id": "72975dae",
   "metadata": {},
   "source": [
    "### 📌 What is SQL?\n",
    "SQL (Structured Query Language) is a programming language used to manage and manipulate relational databases. It allows you to create, read, update, and delete (CRUD) data."
   ]
  },
  {
   "cell_type": "markdown",
   "id": "1f659e00",
   "metadata": {},
   "source": [
    "### ✅ 1. SQL Basics\n",
    "💡 Key Concepts:  \n",
    "Database: A collection of organized data.\n",
    "\n",
    "Table: A collection of rows and columns.\n",
    "\n",
    "Row: A record.\n",
    "\n",
    "Column: A field."
   ]
  },
  {
   "cell_type": "markdown",
   "id": "c23ad1e2",
   "metadata": {},
   "source": []
  },
  {
   "cell_type": "markdown",
   "id": "611459fb",
   "metadata": {},
   "source": []
  }
 ],
 "metadata": {
  "language_info": {
   "name": "python"
  }
 },
 "nbformat": 4,
 "nbformat_minor": 5
}
