{
 "cells": [
  {
   "cell_type": "markdown",
   "id": "72975dae",
   "metadata": {},
   "source": [
    "### 📌 What is SQL?\n",
    "SQL (Structured Query Language) is a programming language used to manage and manipulate relational databases. It allows you to create, read, update, and delete (CRUD) data."
   ]
  },
  {
   "cell_type": "markdown",
   "id": "1f659e00",
   "metadata": {},
   "source": [
    "### ✅ 1. SQL Basics\n",
    "💡 Key Concepts:  \n",
    "Database: A collection of organized data.\n",
    "\n",
    "Table: A collection of rows and columns.\n",
    "\n",
    "Row: A record.\n",
    "\n",
    "Column: A field."
   ]
  },
  {
   "cell_type": "markdown",
   "id": "db6d0d68",
   "metadata": {},
   "source": [
    "| Operation    | Command        | Example                                           |\n",
    "| ------------ | -------------- | ------------------------------------------------- |\n",
    "| Create Table | `CREATE TABLE` | `CREATE TABLE users (id INT, name VARCHAR(100));` |\n",
    "| Insert Data  | `INSERT INTO`  | `INSERT INTO users VALUES (1, 'Alice');`          |\n",
    "| Select Data  | `SELECT`       | `SELECT * FROM users;`                            |\n",
    "| Update Data  | `UPDATE`       | `UPDATE users SET name='Bob' WHERE id=1;`         |\n",
    "| Delete Data  | `DELETE`       | `DELETE FROM users WHERE id=1;`                   |\n"
   ]
  },
  {
   "cell_type": "markdown",
   "id": "e95d0612",
   "metadata": {},
   "source": [
    "### 2.Data Types\n",
    "| Data Type      | Description            |\n",
    "| -------------- | ---------------------- |\n",
    "| `INT`          | Integer                |\n",
    "| `VARCHAR(n)`   | Variable-length string |\n",
    "| `TEXT`         | Long string            |\n",
    "| `DATE`         | Date                   |\n",
    "| `FLOAT/DOUBLE` | Decimal numbers        |\n",
    "| `BOOLEAN`      | True or False          |\n"
   ]
  },
  {
   "cell_type": "markdown",
   "id": "4bbb327b",
   "metadata": {},
   "source": [
    "### ✅ 3. Advanced SELECT Queries\n",
    "WHERE Clause: Filters results  \n",
    "SELECT * FROM users WHERE age > 18;\n",
    "\n",
    "AND / OR / NOT: Combine filters  \n",
    "SELECT * FROM users WHERE age > 18 AND city = 'NY';\n",
    "\n",
    "OR: Either condition is true  \n",
    "SELECT * FROM users WHERE city = 'NY' OR city = 'LA';\n",
    "\n",
    "NOT: Exclude condition  \n",
    "SELECT * FROM users WHERE NOT city = 'Chicago';\n",
    "\n",
    "ORDER BY: Sort results  \n",
    "SELECT * FROM users ORDER BY name ASC;\n",
    "\n",
    "LIMIT: Limit rows returned  \n",
    "SELECT * FROM users LIMIT 10;\n",
    "\n",
    "LIKE: Pattern matching  \n",
    "SELECT * FROM users WHERE name LIKE 'A%';\n",
    "\n",
    "IN / BETWEEN: Match multiple values  \n",
    "IN:  \n",
    "SELECT * FROM users WHERE city IN ('NY', 'LA', 'Chicago');\n",
    "\n",
    "BETWEEN:  \n",
    "SELECT * FROM users WHERE age BETWEEN 20 AND 30;"
   ]
  },
  {
   "cell_type": "markdown",
   "id": "d8477f5e",
   "metadata": {},
   "source": []
  }
 ],
 "metadata": {
  "language_info": {
   "name": "python"
  }
 },
 "nbformat": 4,
 "nbformat_minor": 5
}
